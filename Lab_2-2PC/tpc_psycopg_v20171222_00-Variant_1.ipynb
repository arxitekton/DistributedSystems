{
 "cells": [
  {
   "cell_type": "code",
   "execution_count": 70,
   "metadata": {
    "collapsed": true
   },
   "outputs": [],
   "source": [
    "import psycopg2\n",
    "from psycopg2 import DatabaseError"
   ]
  },
  {
   "cell_type": "code",
   "execution_count": 71,
   "metadata": {
    "collapsed": true
   },
   "outputs": [],
   "source": [
    "import datetime\n",
    "from datetime import date"
   ]
  },
  {
   "cell_type": "code",
   "execution_count": 72,
   "metadata": {
    "collapsed": true
   },
   "outputs": [],
   "source": [
    "import names\n",
    "import string\n",
    "import random"
   ]
  },
  {
   "cell_type": "code",
   "execution_count": 73,
   "metadata": {
    "collapsed": true
   },
   "outputs": [],
   "source": [
    "client_name = \"John Smith\"\n",
    "amount = 700\n",
    "ticket_price = 250"
   ]
  },
  {
   "cell_type": "code",
   "execution_count": 74,
   "metadata": {
    "collapsed": true
   },
   "outputs": [],
   "source": [
    "conn_fly_string = \"host='localhost' dbname='flyDB2' user='postgres' password='postgres'\"\n",
    "conn_hotel_string = \"host='localhost' dbname='hotelDB2' user='postgres' password='postgres'\"\n",
    "conn_account_string = \"host='localhost' dbname='accountDB2' user='postgres' password='postgres'\""
   ]
  },
  {
   "cell_type": "code",
   "execution_count": 75,
   "metadata": {},
   "outputs": [],
   "source": [
    "try:\n",
    "    conn_fly = psycopg2.connect(conn_fly_string)\n",
    "except:\n",
    "    print \"I am unable to connect to the database fly\""
   ]
  },
  {
   "cell_type": "code",
   "execution_count": 76,
   "metadata": {},
   "outputs": [],
   "source": [
    "try:\n",
    "    conn_hotel = psycopg2.connect(conn_hotel_string)\n",
    "except:\n",
    "    print \"I am unable to connect to the database hotel\""
   ]
  },
  {
   "cell_type": "code",
   "execution_count": 77,
   "metadata": {},
   "outputs": [],
   "source": [
    "try:\n",
    "    conn_account = psycopg2.connect(conn_account_string)\n",
    "except:\n",
    "    print \"I am unable to connect to the database account\""
   ]
  },
  {
   "cell_type": "code",
   "execution_count": 78,
   "metadata": {
    "collapsed": true
   },
   "outputs": [],
   "source": [
    "cursor_fly = conn_fly.cursor()\n",
    "cursor_hotel = conn_hotel.cursor()\n",
    "cursor_account = conn_account.cursor()"
   ]
  },
  {
   "cell_type": "code",
   "execution_count": 79,
   "metadata": {
    "collapsed": true
   },
   "outputs": [],
   "source": [
    "statement = \"\"\"\n",
    "CREATE TABLE IF NOT EXISTS  public.fly\n",
    "(\n",
    "    \"id\"  serial PRIMARY KEY,\n",
    "    \"clientname\" character varying(50) COLLATE pg_catalog.\"default\",\n",
    "    \"flynumber\" character varying(16) COLLATE pg_catalog.\"default\",\n",
    "    frm character varying(8) COLLATE pg_catalog.\"default\",\n",
    "    \"to_\" character varying(8) COLLATE pg_catalog.\"default\",\n",
    "    date date\n",
    ")\n",
    ";\"\"\""
   ]
  },
  {
   "cell_type": "code",
   "execution_count": 80,
   "metadata": {},
   "outputs": [],
   "source": [
    "cursor_fly.execute(statement)"
   ]
  },
  {
   "cell_type": "code",
   "execution_count": 81,
   "metadata": {
    "collapsed": true
   },
   "outputs": [],
   "source": [
    "conn_fly.commit()"
   ]
  },
  {
   "cell_type": "code",
   "execution_count": 82,
   "metadata": {
    "collapsed": true
   },
   "outputs": [],
   "source": [
    "statement = \"\"\"\n",
    "CREATE TABLE IF NOT EXISTS public.hotel\n",
    "(\n",
    "    \"id\"  serial PRIMARY KEY,\n",
    "    \"clientname\" character varying(50) COLLATE pg_catalog.\"default\",\n",
    "    \"hotelname\" character varying(50) COLLATE pg_catalog.\"default\",\n",
    "    arrival date,\n",
    "    departure date\n",
    ")\n",
    ";\"\"\""
   ]
  },
  {
   "cell_type": "code",
   "execution_count": 83,
   "metadata": {
    "collapsed": true
   },
   "outputs": [],
   "source": [
    "cursor_hotel.execute(statement)"
   ]
  },
  {
   "cell_type": "code",
   "execution_count": 84,
   "metadata": {
    "collapsed": true
   },
   "outputs": [],
   "source": [
    "conn_hotel.commit()"
   ]
  },
  {
   "cell_type": "code",
   "execution_count": 85,
   "metadata": {
    "collapsed": true
   },
   "outputs": [],
   "source": [
    "statement = \"\"\"\n",
    "CREATE TABLE IF NOT EXISTS account\n",
    "(\n",
    "    \"id\" serial PRIMARY KEY,\n",
    "    \"clientname\" character varying(50) COLLATE pg_catalog.\"default\",\n",
    "    amount integer,\n",
    "    CONSTRAINT ck_account_amount_gt_0 CHECK (amount > 0)\n",
    ")\n",
    ";\"\"\""
   ]
  },
  {
   "cell_type": "code",
   "execution_count": 86,
   "metadata": {
    "collapsed": true
   },
   "outputs": [],
   "source": [
    "cursor_account.execute(statement)"
   ]
  },
  {
   "cell_type": "code",
   "execution_count": 87,
   "metadata": {
    "collapsed": true
   },
   "outputs": [],
   "source": [
    "conn_account.commit()"
   ]
  },
  {
   "cell_type": "code",
   "execution_count": 88,
   "metadata": {
    "collapsed": true
   },
   "outputs": [],
   "source": [
    "cursor_account.execute(\"INSERT INTO account(clientname, amount) VALUES (%s, %s) RETURNING id\", (client_name, amount) )"
   ]
  },
  {
   "cell_type": "code",
   "execution_count": 89,
   "metadata": {
    "collapsed": true
   },
   "outputs": [],
   "source": [
    "account_id = cursor_account.fetchone()[0]"
   ]
  },
  {
   "cell_type": "code",
   "execution_count": 90,
   "metadata": {
    "collapsed": true
   },
   "outputs": [],
   "source": [
    "conn_account.commit()"
   ]
  },
  {
   "cell_type": "code",
   "execution_count": 91,
   "metadata": {},
   "outputs": [
    {
     "data": {
      "text/plain": [
       "1"
      ]
     },
     "execution_count": 91,
     "metadata": {},
     "output_type": "execute_result"
    }
   ],
   "source": [
    "account_id"
   ]
  },
  {
   "cell_type": "code",
   "execution_count": 92,
   "metadata": {
    "collapsed": true
   },
   "outputs": [],
   "source": [
    "def getRandomFlyNumber(sizeAscii=3, sizeDigits=4,chars=string.ascii_uppercase, digits=string.digits):\n",
    "    return ''.join(random.choice(chars) for x in range(sizeAscii)) + '-' + ''.join(random.choice(digits) for x in range(sizeDigits))"
   ]
  },
  {
   "cell_type": "code",
   "execution_count": 93,
   "metadata": {
    "collapsed": true
   },
   "outputs": [],
   "source": [
    "def getRandomAirport(sizeAscii=3,chars=string.ascii_uppercase):\n",
    "    return ''.join(random.choice(chars) for x in range(sizeAscii))"
   ]
  },
  {
   "cell_type": "code",
   "execution_count": 94,
   "metadata": {
    "collapsed": true
   },
   "outputs": [],
   "source": [
    "def getRandomeDate():\n",
    "    start_date = date.today().replace(day=1, month=1).toordinal()\n",
    "    end_date = date.today().toordinal()\n",
    "    random_day = date.fromordinal(random.randint(start_date, end_date))\n",
    "    return random_day"
   ]
  },
  {
   "cell_type": "code",
   "execution_count": 95,
   "metadata": {
    "collapsed": true
   },
   "outputs": [],
   "source": [
    "def booking(id, flynumber, from_, to, date, hotel, arrival, departure, total):\n",
    "\n",
    "    # begin transactions for each database connection\n",
    "    conn_fly.tpc_begin(conn_fly.xid(43, 'transaction ID', 'connection fly'))\n",
    "    conn_hotel.tpc_begin(conn_hotel.xid(43, 'transaction ID', 'connection hotel'))\n",
    "    conn_account.tpc_begin(conn_account.xid(43, 'transaction ID', 'connection account'))\n",
    "\n",
    "\n",
    "    \n",
    "    try:\n",
    "        \n",
    "        # Do stuff with all connections\n",
    "        # todo\n",
    "    \n",
    "        cursor_fly.execute(\n",
    "            \"INSERT INTO fly (clientname, flynumber, frm, to_, date) \"\n",
    "            \"VALUES ( %(name)s, %(number)s, %(frm)s, %(to)s, %(date)s )\", {'name': client_name, 'number':flynumber, 'frm':from_, 'to': to, 'date':date})\n",
    "        conn_fly.tpc_prepare()\n",
    "\n",
    "        cursor_hotel.execute(\n",
    "            \"INSERT INTO hotel (clientname, hotelname, arrival, departure) \"\n",
    "            \"VALUES ( %(name)s, %(hotel)s, %(arrival)s, %(departure)s)\", {'name': client_name, 'hotel':flynumber, 'arrival':arrival, 'departure': departure})\n",
    "        conn_hotel.tpc_prepare()\n",
    "    \n",
    "        sql = \"\"\" UPDATE account\n",
    "                SET amount = amount - %s\n",
    "                WHERE id = %s\"\"\"\n",
    "        cursor_account.execute(\n",
    "            sql, (total, id))    \n",
    "        conn_account.tpc_prepare()\n",
    "        \n",
    "    except DatabaseError :\n",
    "        conn_fly.tpc_rollback()\n",
    "        conn_hotel.tpc_rollback()\n",
    "        conn_account.tpc_rollback()\n",
    "    else:\n",
    "        conn_fly.tpc_commit()\n",
    "        conn_hotel.tpc_commit()\n",
    "        conn_account.tpc_commit()"
   ]
  },
  {
   "cell_type": "code",
   "execution_count": 96,
   "metadata": {
    "collapsed": true
   },
   "outputs": [],
   "source": [
    "# first booking\n",
    "booking(id=account_id, flynumber=getRandomFlyNumber(), from_=getRandomAirport(), to=getRandomAirport(), date=getRandomeDate(), hotel=names.get_first_name(), arrival=getRandomeDate(), departure=getRandomeDate(), total = ticket_price)\n"
   ]
  },
  {
   "cell_type": "code",
   "execution_count": 97,
   "metadata": {},
   "outputs": [],
   "source": [
    "# second booking\n",
    "booking(id=account_id, flynumber=getRandomFlyNumber(), from_=getRandomAirport(), to=getRandomAirport(), date=getRandomeDate(), hotel=names.get_first_name(), arrival=getRandomeDate(), departure=getRandomeDate(), total = ticket_price)"
   ]
  },
  {
   "cell_type": "code",
   "execution_count": 98,
   "metadata": {},
   "outputs": [],
   "source": [
    "# third booking\n",
    "booking(id=account_id, flynumber=getRandomFlyNumber(), from_=getRandomAirport(), to=getRandomAirport(), date=getRandomeDate(), hotel=names.get_first_name(), arrival=getRandomeDate(), departure=getRandomeDate(), total = ticket_price)"
   ]
  }
 ],
 "metadata": {
  "kernelspec": {
   "display_name": "Python 2",
   "language": "python",
   "name": "python2"
  },
  "language_info": {
   "codemirror_mode": {
    "name": "ipython",
    "version": 2
   },
   "file_extension": ".py",
   "mimetype": "text/x-python",
   "name": "python",
   "nbconvert_exporter": "python",
   "pygments_lexer": "ipython2",
   "version": "2.7.13"
  }
 },
 "nbformat": 4,
 "nbformat_minor": 2
}
